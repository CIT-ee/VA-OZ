{
 "cells": [
  {
   "cell_type": "code",
   "execution_count": 50,
   "metadata": {},
   "outputs": [],
   "source": [
    "# Always lat first, lon second"
   ]
  },
  {
   "cell_type": "code",
   "execution_count": 294,
   "metadata": {},
   "outputs": [],
   "source": [
    "import pandas as pd\n",
    "\n",
    "from geopy.distance import vincenty\n",
    "\n",
    "import datadotworld as dw\n",
    "\n",
    "import numpy as np"
   ]
  },
  {
   "cell_type": "code",
   "execution_count": 296,
   "metadata": {},
   "outputs": [],
   "source": [
    "ds = dw.load_dataset('batten/va-oz', auto_update=True)\n",
    "\n",
    "geo_df = ds.dataframes['vacensustracts_geodata_censusbureau']\n",
    "\n",
    "tract_geoid_list = list(geo_df['geoid'])\n",
    "\n",
    "all_lats = list(geo_df['intptlat'])\n",
    "\n",
    "all_lons = list(geo_df['intptlong'])\n",
    "\n",
    "latlons = zip(all_lats, all_lons)\n",
    "\n",
    "tract_latlons_list = []\n",
    "\n",
    "for l in latlons:\n",
    "    tract_latlons_list.append(l)"
   ]
  },
  {
   "cell_type": "code",
   "execution_count": 192,
   "metadata": {},
   "outputs": [],
   "source": [
    "def get_latlons_list(file_name):\n",
    "    df = ds.dataframes[file_name]\n",
    "    if 'latitude' in df:\n",
    "        lats_list = list(df['latitude'])\n",
    "    else:\n",
    "        lats_list = list(df['y'])\n",
    "    if 'longitude' in df:\n",
    "        lons_list = list(df['longitude'])\n",
    "    else:\n",
    "        lons_list = list(df['x'])\n",
    "    latlons_list = list(zip(lats_list, lons_list))\n",
    "    return latlons_list"
   ]
  },
  {
   "cell_type": "code",
   "execution_count": 283,
   "metadata": {},
   "outputs": [],
   "source": [
    "def count_within_radius(radius_in_miles, target_file, tract_latlons_list, tract_geoid_list):\n",
    "    target_latlons_list = get_latlons_list(target_file)\n",
    "    i = -1\n",
    "    tract_target_count_dict = {}\n",
    "    for tract_latlon in tract_latlons_list:\n",
    "        i += 1 \n",
    "        tract_target_count_dict[tract_geoid_list[i]] = 0\n",
    "        for target_latlon in target_latlons_list:\n",
    "            if np.isnan(target_latlon[0]) or np.isnan(target_latlon[1]):\n",
    "                continue\n",
    "            else:\n",
    "                if vincenty(tract_latlon, target_latlon).miles < radius_in_miles:\n",
    "                    tract_target_count_dict[tract_geoid_list[i]] += 1\n",
    "    df = pd.DataFrame(list(tract_target_count_dict.items()), columns=['geoid', target_file[:15] + '_count'])\n",
    "    df.to_csv(target_file[:15] + '_count.csv')\n",
    "    return df"
   ]
  },
  {
   "cell_type": "code",
   "execution_count": 284,
   "metadata": {},
   "outputs": [
    {
     "name": "stderr",
     "output_type": "stream",
     "text": [
      "C:\\Users\\mehedia\\AppData\\Local\\Continuum\\Anaconda3\\lib\\site-packages\\datadotworld\\models\\dataset.py:194: UserWarning: Unable to set data frame dtypes automatically using fortune1000_va_with_tract schema. Data types may need to be adjusted manually. Error: Integer column has NA values in column 10\n",
      "  'Error: {}'.format(resource_name, e))\n",
      "C:\\Users\\mehedia\\AppData\\Local\\Continuum\\Anaconda3\\lib\\site-packages\\datadotworld\\models\\dataset.py:194: UserWarning: Unable to set data frame dtypes automatically using general_airports_with_tracts schema. Data types may need to be adjusted manually. Error: Integer column has NA values in column 8\n",
      "  'Error: {}'.format(resource_name, e))\n",
      "C:\\Users\\mehedia\\AppData\\Local\\Continuum\\Anaconda3\\lib\\site-packages\\datadotworld\\models\\dataset.py:194: UserWarning: Unable to set data frame dtypes automatically using higher_education_with_tract schema. Data types may need to be adjusted manually. Error: Integer column has NA values in column 9\n",
      "  'Error: {}'.format(resource_name, e))\n",
      "C:\\Users\\mehedia\\AppData\\Local\\Continuum\\Anaconda3\\lib\\site-packages\\datadotworld\\models\\dataset.py:194: UserWarning: Unable to set data frame dtypes automatically using cdfis_with_tract schema. Data types may need to be adjusted manually. Error: Integer column has NA values in column 7\n",
      "  'Error: {}'.format(resource_name, e))\n"
     ]
    }
   ],
   "source": [
    "wineries = count_within_radius(10, 'wineries_with_tract', tract_latlons_list, tract_geoid_list)\n",
    "\n",
    "breweries = count_within_radius(10, 'breweries_with_tract', tract_latlons_list, tract_geoid_list)\n",
    "\n",
    "fortune1000 = count_within_radius(5, 'fortune1000_va_with_tract', tract_latlons_list, tract_geoid_list)\n",
    "\n",
    "general_airports = count_within_radius(10, 'general_airports_with_tracts', tract_latlons_list, tract_geoid_list)\n",
    "\n",
    "commercial_airports = count_within_radius(20, 'commercial_airports_with_tracts', tract_latlons_list, tract_geoid_list)\n",
    "\n",
    "SBDCs = count_within_radius(10, 'small_business_development_centers_with_tract', tract_latlons_list, tract_geoid_list)\n",
    "\n",
    "hospitals = count_within_radius(10, 'hospitals_with_tract', tract_latlons_list, tract_geoid_list)\n",
    "\n",
    "colleges = count_within_radius(10, 'higher_education_with_tract', tract_latlons_list, tract_geoid_list)\n",
    "\n",
    "public_schools = count_within_radius(5, 'public_schools_with_tract', tract_latlons_list, tract_geoid_list)\n",
    "\n",
    "fed_centers = count_within_radius(10, 'federal_federally_funded_with_tract', tract_latlons_list, tract_geoid_list)\n",
    "\n",
    "research_parks = count_within_radius(10, 'research_parks_with_tract', tract_latlons_list, tract_geoid_list)\n",
    "\n",
    "sports_venues = count_within_radius(10, 'sports_venues', tract_latlons_list, tract_geoid_list)\n",
    "\n",
    "CDFIs = count_within_radius(10, 'cdfis_with_tract', tract_latlons_list, tract_geoid_list)"
   ]
  },
  {
   "cell_type": "code",
   "execution_count": 288,
   "metadata": {},
   "outputs": [
    {
     "name": "stderr",
     "output_type": "stream",
     "text": [
      "C:\\Users\\mehedia\\AppData\\Local\\Continuum\\Anaconda3\\lib\\site-packages\\datadotworld\\models\\dataset.py:194: UserWarning: Unable to set data frame dtypes automatically using vc_with_tract schema. Data types may need to be adjusted manually. Error: Integer column has NA values in column 2\n",
      "  'Error: {}'.format(resource_name, e))\n"
     ]
    }
   ],
   "source": [
    "vcs = count_within_radius(10, 'vc_with_tract', tract_latlons_list, tract_geoid_list)"
   ]
  }
 ],
 "metadata": {
  "kernelspec": {
   "display_name": "Python 3",
   "language": "python",
   "name": "python3"
  },
  "language_info": {
   "codemirror_mode": {
    "name": "ipython",
    "version": 3
   },
   "file_extension": ".py",
   "mimetype": "text/x-python",
   "name": "python",
   "nbconvert_exporter": "python",
   "pygments_lexer": "ipython3",
   "version": "3.6.4"
  }
 },
 "nbformat": 4,
 "nbformat_minor": 2
}
